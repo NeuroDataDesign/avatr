{
 "cells": [
  {
   "cell_type": "code",
   "execution_count": 43,
   "metadata": {},
   "outputs": [],
   "source": [
    "import glob\n",
    "import matplotlib.pyplot as plt\n",
    "from skimage import io\n",
    "from scipy import sparse\n",
    "import pickle\n",
    "%matplotlib inline\n",
    "\n",
    "images = []\n",
    "for img_path in glob.glob('../../group/base_annotator/DATA/*.tif'):\n",
    "    images.append(io.imread(img_path))\n"
   ]
  },
  {
   "cell_type": "code",
   "execution_count": 57,
   "metadata": {},
   "outputs": [
    {
     "name": "stdout",
     "output_type": "stream",
     "text": [
      "(720, 1280)\n"
     ]
    },
    {
     "data": {
      "image/png": "[encoded data removed]",
      "text/plain": [
       "<matplotlib.figure.Figure at 0x10e2e6bd0>"
      ]
     },
     "metadata": {},
     "output_type": "display_data"
    },
    {
     "name": "stdout",
     "output_type": "stream",
     "text": [
      "(720, 1280)\n"
     ]
    },
    {
     "data": {
      "image/png": "[encoded data removed]",
      "text/plain": [
       "<matplotlib.figure.Figure at 0x111c87e50>"
      ]
     },
     "metadata": {},
     "output_type": "display_data"
    },
    {
     "name": "stdout",
     "output_type": "stream",
     "text": [
      "[<720x1280 sparse matrix of type '<type 'numpy.uint8'>'\n",
      "\twith 15124 stored elements in Compressed Sparse Row format>, <720x1280 sparse matrix of type '<type 'numpy.uint8'>'\n",
      "\twith 116277 stored elements in Compressed Sparse Row format>]\n"
     ]
    }
   ],
   "source": [
    "sparses = []\n",
    "for layer in labels:\n",
    "    print(layer.shape)\n",
    "    plt.imshow(layer, cmap='gray')\n",
    "    plt.show()\n",
    "    sparses.append(sparse.csr_matrix(layer))\n",
    "print sparses"
   ]
  },
  {
   "cell_type": "code",
   "execution_count": 59,
   "metadata": {},
   "outputs": [
    {
     "name": "stdout",
     "output_type": "stream",
     "text": [
      "<module 'scipy.sparse' from '/usr/local/lib/python2.7/site-packages/scipy/sparse/__init__.pyc'>\n",
      "<module 'scipy.sparse' from '/usr/local/lib/python2.7/site-packages/scipy/sparse/__init__.pyc'>\n"
     ]
    }
   ],
   "source": [
    "i=0\n",
    "for sparse_matrix in sparses:\n",
    "    sparse.save_npz('sparse_matrix_'+str(i)+'.npz', sparse_matrix)\n",
    "    i = i+1"
   ]
  },
  {
   "cell_type": "code",
   "execution_count": null,
   "metadata": {
    "collapsed": true
   },
   "outputs": [],
   "source": []
  }
 ],
 "metadata": {
  "kernelspec": {
   "display_name": "Python 3",
   "language": "python",
   "name": "python3"
  },
  "language_info": {
   "codemirror_mode": {
    "name": "ipython",
    "version": 2
   },
   "file_extension": ".py",
   "mimetype": "text/x-python",
   "name": "python",
   "nbconvert_exporter": "python",
   "pygments_lexer": "ipython2",
   "version": "2.7.13"
  }
 },
 "nbformat": 4,
 "nbformat_minor": 2
}
